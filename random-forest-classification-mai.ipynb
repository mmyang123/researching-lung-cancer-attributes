{
 "cells": [
  {
   "cell_type": "markdown",
   "id": "38643fea",
   "metadata": {},
   "source": [
    "## Random Forest Classification \n",
    "### Mai Yang"
   ]
  },
  {
   "cell_type": "code",
   "execution_count": null,
   "id": "f27f0712",
   "metadata": {},
   "outputs": [],
   "source": [
    "%matplotlib inline\n",
    "import pandas as pd\n",
    "from matplotlib import pyplot as plt\n",
    "from sklearn.datasets import make_regression\n",
    "import numpy as np\n",
    "from sklearn.model_selection import train_test_split\n",
    "from sklearn.preprocessing import StandardScaler\n",
    "from sklearn.metrics import classification_report, confusion_matrix"
   ]
  },
  {
   "cell_type": "markdown",
   "id": "5383e6ef",
   "metadata": {},
   "source": [
    "# Dataset: Lung Cancer Prediction\n",
    "\n",
    "Source: https://www.kaggle.com/datasets/thedevastator/cancer-patients-and-air-pollution-a-new-link\n",
    "\n",
    "The study was published in the journal Nature Medicine, and counted data from over 462,000 people in China who were focused for an average of six years. The contributors were divided into two groups: those lived in areas with high levels of air pollution and the other group lived in areas iwth low levels of air pollution.\n",
    "\n",
    "Discription: Lung cander is the leading cause of cancer death all around the world, accounting for 1.59 millions deaths in 2018. As we know it, the majority of lung cancer cases lead to smoking, but exposure to air pollution and other attributes is also a risk factor. A new study has found that air pollution may be linked to an increased risk of lung cancer, even in nonsmokers. This study area includes four levels of attributes to lung cancers of having levels of either 0: low, 1: medium, or 2: high.\n",
    "\n",
    "\n",
    "Variables/Columns\n",
    "\n",
    "* Index\n",
    "* Patient Id\n",
    "* Age\n",
    "* Gender\n",
    "* Air Pollution\n",
    "* Alcohol us\n",
    "* Dust Allergy\n",
    "* Occupational Hazards\n",
    "* Genetic Risk\n",
    "* Chronic Lung Disease\n",
    "* Balanced Diet\n",
    "* Obesity\n",
    "* Smoking\n",
    "* Passive Smoker\n",
    "* Chest Pain\n",
    "* Coughing of Blood\n",
    "* Fatigue\n",
    "* Weight Loss\n",
    "* Shortness of Breath\n",
    "* Wheezing\n",
    "* Swallowing Difficulty\n",
    "* Clubbing of Finger Nails\n",
    "* Frequent Cold\n",
    "* Dry Cough\n",
    "* Snoring\n",
    "* Levels:\n",
    "    * 0: Low\n",
    "    * 1: Medium\n",
    "    * 2: High\n",
    "   \n",
    "    \n",
    "\n",
    "\n"
   ]
  },
  {
   "cell_type": "code",
   "execution_count": null,
   "id": "c4b36bca",
   "metadata": {},
   "outputs": [],
   "source": [
    "# Load and read the dataset to a dataframe\n",
    "df = pd.read_csv('Resource/cancer patient data sets.csv')\n",
    "df.head()"
   ]
  },
  {
   "cell_type": "code",
   "execution_count": null,
   "id": "992e6fb3",
   "metadata": {},
   "outputs": [],
   "source": [
    "# Drop index and patient id columns since it is not neccesary to have\n",
    "# df.drop('column_name', axis=1); this is for dropping 1 column\n",
    "df = df.drop(columns=['index', 'Patient Id'])"
   ]
  },
  {
   "cell_type": "code",
   "execution_count": null,
   "id": "e376ea02",
   "metadata": {},
   "outputs": [],
   "source": [
    "# Set the train and test datasets, and drop the Level column since we are trying to predict from the input set\n",
    "X = df.drop('Level', axis=1)\n",
    "y = df['Level']\n",
    "target_names = [\"Low\", \"Medium\", \"High\"]"
   ]
  },
  {
   "cell_type": "code",
   "execution_count": null,
   "id": "9df808ed",
   "metadata": {},
   "outputs": [],
   "source": [
    "df.head()"
   ]
  },
  {
   "cell_type": "code",
   "execution_count": null,
   "id": "e540917c",
   "metadata": {},
   "outputs": [],
   "source": [
    "# Prepare the data \n",
    "X_train, X_test, y_train, y_test = train_test_split(X, y, random_state=1)\n",
    "scaler = StandardScaler().fit(X_train)\n",
    "X_train_scaled = scaler.transform(X_train)\n",
    "X_test_scaled = scaler.transform(X_test)"
   ]
  },
  {
   "cell_type": "code",
   "execution_count": null,
   "id": "e673b7a8",
   "metadata": {},
   "outputs": [],
   "source": [
    "# Import a Random Forest Classifier\n",
    "from sklearn.ensemble import RandomForestClassifier"
   ]
  },
  {
   "cell_type": "code",
   "execution_count": null,
   "id": "567bfda0",
   "metadata": {},
   "outputs": [],
   "source": [
    "# Import a Random Trees Classifier\n",
    "from sklearn.ensemble import ExtraTreesClassifier"
   ]
  },
  {
   "cell_type": "code",
   "execution_count": null,
   "id": "1e7dd212",
   "metadata": {},
   "outputs": [],
   "source": [
    "# Fit a model, and then print a classification report\n",
    "clf = RandomForestClassifier(random_state=1).fit(X_train_scaled, y_train)\n",
    "y_pred = clf.predict(X_test_scaled)\n",
    "print(classification_report(y_test, y_pred, target_names=target_names))\n",
    "print(f'Training Score: {clf.score(X_train_scaled, y_train)}')\n",
    "print(f'Testing Score: {clf.score(X_test_scaled, y_test)}')"
   ]
  },
  {
   "cell_type": "markdown",
   "id": "960230f9",
   "metadata": {},
   "source": [
    "### The classification report \n",
    "The report displays the f1-score for all three levels at 1.0 or 100%, and the training and testing scores at 1.0 or 100%, a perfect score. Therefore, the Random Forest Classifier is the best fit for this model."
   ]
  },
  {
   "cell_type": "code",
   "execution_count": null,
   "id": "ab7e1ee0",
   "metadata": {},
   "outputs": [],
   "source": []
  }
 ],
 "metadata": {
  "kernelspec": {
   "display_name": "Python 3 (ipykernel)",
   "language": "python",
   "name": "python3"
  },
  "language_info": {
   "codemirror_mode": {
    "name": "ipython",
    "version": 3
   },
   "file_extension": ".py",
   "mimetype": "text/x-python",
   "name": "python",
   "nbconvert_exporter": "python",
   "pygments_lexer": "ipython3",
   "version": "3.8.13"
  }
 },
 "nbformat": 4,
 "nbformat_minor": 5
}
